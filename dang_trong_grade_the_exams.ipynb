{
 "cells": [
  {
   "cell_type": "code",
   "execution_count": 1,
   "id": "1d0b3d0f",
   "metadata": {},
   "outputs": [],
   "source": [
    "# import lib\n",
    "import re\n",
    "import numpy as np\n",
    "import pandas as pd"
   ]
  },
  {
   "cell_type": "code",
   "execution_count": null,
   "id": "d64363e2",
   "metadata": {},
   "outputs": [],
   "source": [
    "# read text file into pandas DataFrame\n",
    "df = pd.read_csv(\"gfg.txt\", sep=\" \")\n",
    "  \n",
    "# display DataFrame\n",
    "print(df)"
   ]
  }
 ],
 "metadata": {
  "kernelspec": {
   "display_name": "Python 3 (ipykernel)",
   "language": "python",
   "name": "python3"
  },
  "language_info": {
   "codemirror_mode": {
    "name": "ipython",
    "version": 3
   },
   "file_extension": ".py",
   "mimetype": "text/x-python",
   "name": "python",
   "nbconvert_exporter": "python",
   "pygments_lexer": "ipython3",
   "version": "3.9.12"
  }
 },
 "nbformat": 4,
 "nbformat_minor": 5
}
