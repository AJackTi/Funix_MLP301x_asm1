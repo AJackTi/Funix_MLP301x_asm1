{
 "cells": [
  {
   "cell_type": "code",
   "execution_count": 1,
   "id": "823e963c",
   "metadata": {
    "pycharm": {
     "name": "#%%\n"
    }
   },
   "outputs": [],
   "source": [
    "# import lib\n",
    "import re\n",
    "import numpy as np\n",
    "import pandas as pd"
   ]
  },
  {
   "cell_type": "code",
   "execution_count": 59,
   "outputs": [
    {
     "name": "stdout",
     "output_type": "stream",
     "text": [
      "                                                    0\n",
      "0   N00000001,A,A,D,D,C,D,D,A,,C,D,B,C,,B,C,B,D,A,...\n",
      "1   N00000002,,A,,D,,B,D,A,C,C,D,,A,A,A,C,B,D,C,C,...\n",
      "2   N00000003,B,A,,D,C,B,D,A,C,C,,B,A,B,A,C,B,D,A,...\n",
      "3   N00000004,B,B,D,,,B,D,A,C,C,D,B,A,B,A,C,B,D,,C...\n",
      "4   N00000005,B,A,,D,,B,D,A,C,C,D,B,A,B,A,C,B,D,D,...\n",
      "5   N00000006,B,A,D,A,C,B,D,A,C,C,C,B,A,D,A,C,,C,A...\n",
      "6   N00000007,B,A,D,D,C,B,D,A,C,,D,B,A,B,A,C,B,D,,...\n",
      "7   N00000008,A,A,D,D,C,,D,A,C,C,B,C,A,B,A,A,B,D,A...\n",
      "8   N00000009,B,A,,D,C,B,D,A,C,A,D,B,A,B,A,A,B,D,A...\n",
      "9   N00000010,,A,D,B,C,B,D,A,C,C,D,B,A,B,A,C,B,D,A...\n",
      "10  N00000011,B,A,D,,C,B,D,A,C,D,D,B,A,B,A,C,B,D,A...\n",
      "11  N00000012,B,,D,D,C,B,D,A,C,C,D,B,A,B,A,A,B,D,A...\n",
      "12  N00000013,,A,D,,B,B,,A,C,A,D,B,A,B,D,C,B,D,A,C...\n",
      "13  N00000014,B,B,D,D,C,B,,D,C,C,D,B,A,B,A,C,,D,A,...\n",
      "14  N00000015,A,C,C,D,C,B,,A,C,C,D,B,A,B,A,C,B,D,A...\n",
      "15  N00000016,B,A,C,D,,B,D,A,C,C,D,B,A,B,A,C,B,D,A...\n",
      "16  N00000017,B,A,D,D,C,B,C,A,D,C,D,A,A,D,A,C,B,D,...\n",
      "17  N00000018,B,A,D,A,C,B,D,A,C,C,D,B,A,B,,,B,D,A,...\n",
      "18  N00000019,B,A,D,D,C,B,D,C,C,C,,B,,B,D,C,B,D,A,...\n",
      "19  N00000020,B,,D,D,C,B,D,A,C,B,,,A,C,A,D,B,D,B,C...\n"
     ]
    }
   ],
   "source": [
    "# read text file into pandas DataFrame\n",
    "df = pd.read_csv(\"DataFiles/class1.txt\", sep=\" \", header=None)\n",
    "\n",
    "# display DataFrame\n",
    "print(df)"
   ],
   "metadata": {
    "collapsed": false,
    "pycharm": {
     "name": "#%%\n"
    }
   }
  },
  {
   "cell_type": "code",
   "execution_count": 72,
   "outputs": [],
   "source": [
    "def ValidLength(lstLine):\n",
    "    return len(lstLine) != 26\n",
    "\n",
    "def ValidRegex(str):\n",
    "    reg = re.findall(r\"^N[0-9]{8}\", str)\n",
    "    return len(reg) != 0"
   ],
   "metadata": {
    "collapsed": false,
    "pycharm": {
     "name": "#%%\n"
    }
   }
  },
  {
   "cell_type": "code",
   "execution_count": 62,
   "outputs": [],
   "source": [
    "df = df[0].str.split(\",\")"
   ],
   "metadata": {
    "collapsed": false,
    "pycharm": {
     "name": "#%%\n"
    }
   }
  },
  {
   "cell_type": "code",
   "execution_count": 75,
   "outputs": [
    {
     "name": "stdout",
     "output_type": "stream",
     "text": [
      "20\n",
      "0\n"
     ]
    }
   ],
   "source": [
    "def DataCheck(df):\n",
    "    lstValid = []\n",
    "    lstInvalid = []\n",
    "    for index, item in df.iteritems():\n",
    "        if ValidLength(item):\n",
    "            lstInvalid.append(item)\n",
    "            continue\n",
    "        if not ValidRegex(item[0]):\n",
    "            lstInvalid.append(item)\n",
    "            continue\n",
    "\n",
    "        lstValid.append(item)\n",
    "\n",
    "    return (lstValid, lstInvalid)\n",
    "\n",
    "(lstValid, lstInvalid) = DataCheck(df)\n",
    "print(len(lstValid))\n",
    "print(len(lstInvalid))"
   ],
   "metadata": {
    "collapsed": false,
    "pycharm": {
     "name": "#%%\n"
    }
   }
  },
  {
   "cell_type": "code",
   "execution_count": 78,
   "outputs": [],
   "source": [
    "answer_key = \"B,A,D,D,C,B,D,A,C,C,D,B,A,B,A,C,B,D,A,C,A,A,B,D,D\""
   ],
   "metadata": {
    "collapsed": false,
    "pycharm": {
     "name": "#%%\n"
    }
   }
  },
  {
   "cell_type": "code",
   "execution_count": 80,
   "outputs": [
    {
     "data": {
      "text/plain": "array(['B', 'A', 'D', 'D', 'C', 'B', 'D', 'A', 'C', 'C', 'D', 'B', 'A',\n       'B', 'A', 'C', 'B', 'D', 'A', 'C', 'A', 'A', 'B', 'D', 'D'],\n      dtype='<U1')"
     },
     "execution_count": 80,
     "metadata": {},
     "output_type": "execute_result"
    }
   ],
   "source": [
    "answerKeyNP = np.array(answer_key.split(\",\"))\n",
    "answerKeyNP"
   ],
   "metadata": {
    "collapsed": false,
    "pycharm": {
     "name": "#%%\n"
    }
   }
  },
  {
   "cell_type": "code",
   "execution_count": 88,
   "outputs": [],
   "source": [
    "def CalculateScore(lstAnswerKey, lstAnswer):\n",
    "    score = 0\n",
    "\n",
    "    for i in range(0, len(lstAnswer)):\n",
    "        if lstAnswer[i] == \"\":\n",
    "            score += 0\n",
    "        elif lstAnswer[i] == lstAnswerKey[i]:\n",
    "            score += 4\n",
    "        elif lstAnswer[i] != lstAnswerKey[i]:\n",
    "            score -= 1\n",
    "\n",
    "    return score\n",
    "\n",
    "\n",
    "def CalculateScoreClass(data):\n",
    "    lstAnswerKey = answer_key.split(\",\")\n",
    "    lstStudents = []\n",
    "    lstScores = []\n",
    "    for line in data:\n",
    "        lstAnswer = line[1:]\n",
    "        id = line[0]\n",
    "\n",
    "        score = CalculateScore(lstAnswerKey, lstAnswer)\n",
    "        student = Student(id, score)\n",
    "        lstStudents.append(student)\n",
    "        lstScores.append(score)\n",
    "\n",
    "    return (lstStudents, lstScores)\n",
    "\n",
    "\n",
    "class Student:\n",
    "    def __init__(self, id, score):\n",
    "        self.id = id\n",
    "        self.score = score"
   ],
   "metadata": {
    "collapsed": false,
    "pycharm": {
     "name": "#%%\n"
    }
   }
  },
  {
   "cell_type": "code",
   "execution_count": 89,
   "outputs": [
    {
     "name": "stdout",
     "output_type": "stream",
     "text": [
      "Mean (average) score: 75.6\n",
      "Highest score: 91\n",
      "Lowest score: 59\n",
      "Range of scores: 32\n",
      "Median score: 73.0\n"
     ]
    }
   ],
   "source": [
    "lstStudents, lstScores = CalculateScoreClass(lstValid)\n",
    "lstScores.sort()\n",
    "np_score = np.array(lstScores)\n",
    "\n",
    "print(\"Mean (average) score:\", np.mean(np_score))\n",
    "print(\"Highest score:\", np.max(np_score))\n",
    "print(\"Lowest score:\", np.min(np_score))\n",
    "print(\"Range of scores:\", np.max(np_score) - np.min(np_score))\n",
    "print(\"Median score:\", np.median(np_score))"
   ],
   "metadata": {
    "collapsed": false,
    "pycharm": {
     "name": "#%%\n"
    }
   }
  },
  {
   "cell_type": "code",
   "execution_count": null,
   "outputs": [],
   "source": [],
   "metadata": {
    "collapsed": false,
    "pycharm": {
     "name": "#%%\n"
    }
   }
  }
 ],
 "metadata": {
  "kernelspec": {
   "display_name": "Python 3 (ipykernel)",
   "language": "python",
   "name": "python3"
  },
  "language_info": {
   "codemirror_mode": {
    "name": "ipython",
    "version": 3
   },
   "file_extension": ".py",
   "mimetype": "text/x-python",
   "name": "python",
   "nbconvert_exporter": "python",
   "pygments_lexer": "ipython3",
   "version": "3.9.12"
  }
 },
 "nbformat": 4,
 "nbformat_minor": 5
}